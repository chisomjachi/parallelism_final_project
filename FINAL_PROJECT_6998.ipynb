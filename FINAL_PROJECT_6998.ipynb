{
  "nbformat": 4,
  "nbformat_minor": 0,
  "metadata": {
    "colab": {
      "provenance": []
    },
    "kernelspec": {
      "name": "python3",
      "display_name": "Python 3"
    },
    "language_info": {
      "name": "python"
    },
    "gpuClass": "standard"
  },
  "cells": [
    {
      "cell_type": "markdown",
      "source": [
        "## Model Parallelism and Pipeline Parallelism:\n",
        "\n",
        "A type of model parallelism which specific model weights, gradients and optimizer states are split across devices. In contrast to pipeline parallelism, which keeps individual weights intact but partitions the set of weights, tensor parallelism splits individual weights. \n",
        "\n",
        "References:\n",
        "\n",
        "https://colab.research.google.com/github/pytorch/tutorials/blob/gh-pages/_downloads/7fb7efcebd169edefbbd6ea08aab1bc7/pipeline_tutorial.ipynb\n",
        "\n",
        "https://docs.aws.amazon.com/sagemaker/latest/dg/model-parallel-extended-features-pytorch-tensor-parallelism-examples.html\n",
        "\n",
        "https://machinelearningmastery.com/how-to-develop-a-cnn-from-scratch-for-cifar-10-photo-classification/\n",
        "\n",
        "https://pytorch.org/tutorials/intermediate/model_parallel_tutorial.html\n",
        "\n"
      ],
      "metadata": {
        "id": "xoqdWOZP75zG"
      }
    },
    {
      "cell_type": "code",
      "source": [
        "import matplotlib.pyplot as plt\n",
        "from tensorflow.keras.utils import to_categorical\n",
        "import sys\n",
        "import math\n",
        "import torch\n",
        "import torch.nn as nn\n",
        "import torch.nn.functional as F\n",
        "from keras.models import Sequential\n",
        "from keras.layers import Conv2D, MaxPooling2D, Dense, Flatten, Dropout\n",
        "from tensorflow.keras.optimizers import SGD\n",
        "import numpy as np"
      ],
      "metadata": {
        "id": "bEAO1O2F-XDu"
      },
      "execution_count": 2,
      "outputs": []
    },
    {
      "cell_type": "code",
      "source": [
        "if torch.cuda.device_count() < 2:\n",
        "    print('Need at least two GPU devices for this tutorial')\n",
        "    sys.exit(0)"
      ],
      "metadata": {
        "id": "A24PXfoFQu0l"
      },
      "execution_count": 19,
      "outputs": []
    },
    {
      "cell_type": "code",
      "source": [
        "device = torch.device('cuda:0')"
      ],
      "metadata": {
        "id": "bmoZBFTkgEz2"
      },
      "execution_count": null,
      "outputs": []
    },
    {
      "cell_type": "markdown",
      "source": [
        "We first will load the training data CIFAR-10:"
      ],
      "metadata": {
        "id": "5jukJLRkkKj6"
      }
    },
    {
      "cell_type": "code",
      "source": [
        "import torchvision \n",
        "from tensorflow.keras.applications.resnet50 import ResNet50"
      ],
      "metadata": {
        "id": "5ZMm2WJ_JqoA"
      },
      "execution_count": null,
      "outputs": []
    },
    {
      "cell_type": "code",
      "source": [
        "import torchvision\n",
        "import torchvision.transforms as transforms\n",
        "\n",
        "transform = transforms.Compose(\n",
        "    [transforms.ToTensor(),\n",
        "     transforms.Normalize((0.5, 0.5, 0.5), (0.5, 0.5, 0.5))])\n",
        "\n",
        "batch_size = 32\n",
        "\n",
        "trainset = torchvision.datasets.CIFAR10(root='./data', train=True,\n",
        "                                        download=True, transform=transform)\n",
        "trainloader = torch.utils.data.DataLoader(trainset, batch_size=batch_size,\n",
        "                                          shuffle=True, num_workers=2)\n",
        "\n",
        "testset = torchvision.datasets.CIFAR10(root='./data', train=False,\n",
        "                                       download=True, transform=transform)\n",
        "testloader = torch.utils.data.DataLoader(testset, batch_size=batch_size,\n",
        "                                         shuffle=False, num_workers=2)\n",
        "\n",
        "classes = ('plane', 'car', 'bird', 'cat',\n",
        "           'deer', 'dog', 'frog', 'horse', 'ship', 'truck')"
      ],
      "metadata": {
        "colab": {
          "base_uri": "https://localhost:8080/"
        },
        "id": "vAvV_4ILOxhW",
        "outputId": "7fce62a4-2cfc-4039-92f8-68b26068b199"
      },
      "execution_count": null,
      "outputs": [
        {
          "output_type": "stream",
          "name": "stdout",
          "text": [
            "Files already downloaded and verified\n",
            "Files already downloaded and verified\n"
          ]
        }
      ]
    },
    {
      "cell_type": "markdown",
      "source": [
        "We will train CIFAR-10 with a ResNet50 Model. "
      ],
      "metadata": {
        "id": "cnGw3i6TkSKs"
      }
    },
    {
      "cell_type": "code",
      "source": [
        "from torchvision.models.resnet import ResNet, Bottleneck\n",
        "\n",
        "num_classes = 10\n",
        "\n",
        "\n",
        "class ModelParallelResNet50(ResNet):\n",
        "    def __init__(self, *args, **kwargs):\n",
        "        super(ModelParallelResNet50, self).__init__(\n",
        "            Bottleneck, [3, 4, 6, 3], num_classes=num_classes, *args, **kwargs)\n",
        "\n",
        "        self.seq1 = nn.Sequential(\n",
        "            self.conv1,\n",
        "            self.bn1,\n",
        "            self.relu,\n",
        "            self.maxpool,\n",
        "\n",
        "            self.layer1,\n",
        "            self.layer2\n",
        "        ).to('cuda:0')\n",
        "\n",
        "        self.seq2 = nn.Sequential(\n",
        "            self.layer3,\n",
        "            self.layer4,\n",
        "            self.avgpool,\n",
        "        ).to('cuda:1')\n",
        "\n",
        "        self.fc.to('cuda:1')\n",
        "\n",
        "    def forward(self, x):\n",
        "        x = self.seq2(self.seq1(x).to('cuda:1'))\n",
        "        return self.fc(x.view(x.size(0), -1))"
      ],
      "metadata": {
        "id": "hBfnOM6ZA_uT"
      },
      "execution_count": null,
      "outputs": []
    },
    {
      "cell_type": "markdown",
      "source": [
        "We first will do a experiment to see how the model parallelism perform in a small batch of randomly generated inputs and labels:"
      ],
      "metadata": {
        "id": "isTA43KulKXH"
      }
    },
    {
      "cell_type": "code",
      "source": [
        "import torchvision.models as models\n",
        "\n",
        "num_batches = 3\n",
        "batch_size = 120\n",
        "image_w = 128\n",
        "image_h = 128\n",
        "\n",
        "\n",
        "def train(model):\n",
        "    model.train(True)\n",
        "    loss_fn = nn.MSELoss()\n",
        "    optimizer = torch.optim.SGD(model.parameters(), lr=0.001)\n",
        "\n",
        "    one_hot_indices = torch.LongTensor(batch_size) \\\n",
        "                           .random_(0, num_classes) \\\n",
        "                           .view(batch_size, 1)\n",
        "\n",
        "    for _ in range(num_batches):\n",
        "        # generate random inputs and labels\n",
        "        inputs = torch.randn(batch_size, 3, image_w, image_h)\n",
        "        labels = torch.zeros(batch_size, num_classes) \\\n",
        "                      .scatter_(1, one_hot_indices, 1)\n",
        "\n",
        "        # run forward pass\n",
        "        optimizer.zero_grad()\n",
        "        outputs = model(inputs.to('cuda:0'))\n",
        "\n",
        "        # run backward pass\n",
        "        labels = labels.to(outputs.device)\n",
        "        loss_fn(outputs, labels).backward()\n",
        "        optimizer.step()"
      ],
      "metadata": {
        "id": "eoowCIZtlJud"
      },
      "execution_count": null,
      "outputs": []
    },
    {
      "cell_type": "code",
      "source": [
        "import matplotlib.pyplot as plt\n",
        "import numpy as np\n",
        "import timeit\n",
        "\n",
        "num_repeat = 10\n",
        "\n",
        "stmt = \"train(model)\"\n",
        "\n",
        "setup = \"model = ModelParallelResNet50()\"\n",
        "mp_run_times = timeit.repeat(\n",
        "    stmt, setup, number=1, repeat=num_repeat, globals=globals())\n",
        "mp_mean, mp_std = np.mean(mp_run_times), np.std(mp_run_times)\n",
        "\n",
        "setup = \"import torchvision.models as models;\" + \\\n",
        "        \"model = models.resnet50(num_classes=num_classes).to('cuda:0')\"\n",
        "rn_run_times = timeit.repeat(\n",
        "    stmt, setup, number=1, repeat=num_repeat, globals=globals())\n",
        "rn_mean, rn_std = np.mean(rn_run_times), np.std(rn_run_times)\n",
        "\n",
        "\n",
        "def plot(means, stds, labels, fig_name):\n",
        "    fig, ax = plt.subplots()\n",
        "    ax.bar(np.arange(len(means)), means, yerr=stds,\n",
        "           align='center', alpha=0.5, ecolor='red', capsize=10, width=0.6)\n",
        "    ax.set_ylabel('ResNet50 Execution Time (Second)')\n",
        "    ax.set_xticks(np.arange(len(means)))\n",
        "    ax.set_xticklabels(labels)\n",
        "    ax.yaxis.grid(True)\n",
        "    plt.tight_layout()\n",
        "    plt.show()\n",
        "\n",
        "\n",
        "plot([mp_mean, rn_mean],\n",
        "     [mp_std, rn_std],\n",
        "     ['Model Parallel', 'Single GPU'],\n",
        "     'mp_vs_rn.png')"
      ],
      "metadata": {
        "colab": {
          "base_uri": "https://localhost:8080/",
          "height": 297
        },
        "id": "Y_QgmHPflc20",
        "outputId": "68d320cf-9d15-483c-96f8-c3218d0b2d15"
      },
      "execution_count": null,
      "outputs": [
        {
          "output_type": "display_data",
          "data": {
            "image/png": "[encoded data removed]",
            "text/plain": [
              "<Figure size 432x288 with 1 Axes>"
            ]
          },
          "metadata": {
            "needs_background": "light"
          }
        }
      ]
    },
    {
      "cell_type": "markdown",
      "source": [
        "We can see that Model Parallelism in this stage does not have any advantages. We can see the execution time for Model Parallel is even longer compare to Single GPU. \n",
        "\n",
        "Then for the next experiment, we want to see when will model parallelism have advantages. We are now using CIFAR-10 instead of randomly generated inputs and labels that have much smaller size. "
      ],
      "metadata": {
        "id": "9h1Wd1Pkkl_x"
      }
    },
    {
      "cell_type": "code",
      "source": [
        "import torchvision.models as models\n",
        "\n",
        "def train(model):\n",
        "    model.train(True)\n",
        "    criterion = nn.MSELoss()\n",
        "    optimizer = torch.optim.SGD(model.parameters(), lr=0.001, momentum=0.9)\n",
        "\n",
        "    for epoch in range(2):  # loop over the dataset multiple times\n",
        "      running_loss = 0.0\n",
        "      for i, data in enumerate(trainloader, 0):\n",
        "          # get the inputs; data is a list of [inputs, labels]\n",
        "          inputs, labels = data\n",
        "\n",
        "          # zero the parameter gradients\n",
        "          optimizer.zero_grad()\n",
        "\n",
        "          # forward + backward + optimize\n",
        "          outputs = model(inputs.to('cuda:0'))\n",
        "          labels = labels.to(outputs.device)\n",
        "          loss = criterion(outputs, labels.view(labels.size(0),-1).float())\n",
        "          loss.backward()\n",
        "          optimizer.step()\n",
        "\n",
        "          # print statistics\n",
        "          running_loss += loss.item()\n",
        "          if i % 2000 == 1999:    # print every 2000 mini-batches\n",
        "              print(f'[{epoch + 1}, {i + 1:5d}] loss: {running_loss / 2000:.3f}')\n",
        "              running_loss = 0.0\n",
        "\n",
        "    print('Finished Training')"
      ],
      "metadata": {
        "id": "XfwCcphPBGqS"
      },
      "execution_count": null,
      "outputs": []
    },
    {
      "cell_type": "code",
      "source": [
        "import matplotlib.pyplot as plt\n",
        "%matplotlib inline\n",
        "import numpy as np\n",
        "import timeit\n",
        "\n",
        "num_repeat = 10\n",
        "\n",
        "stmt = \"train(model)\"\n",
        "\n",
        "setup = \"model = ModelParallelResNet50()\"\n",
        "mp_run_times = timeit.repeat(\n",
        "    stmt, setup, number=1, repeat=num_repeat, globals=globals())\n",
        "mp_mean, mp_std = np.mean(mp_run_times), np.std(mp_run_times)\n",
        "\n",
        "setup = \"import torchvision.models as models;\" + \\\n",
        "        \"model = models.resnet50(num_classes=num_classes).to('cuda:0')\"\n",
        "rn_run_times = timeit.repeat(\n",
        "    stmt, setup, number=1, repeat=num_repeat, globals=globals())\n",
        "rn_mean, rn_std = np.mean(rn_run_times), np.std(rn_run_times)\n",
        "\n",
        "\n",
        "def plot(means, stds, labels, fig_name):\n",
        "    fig, ax = plt.subplots()\n",
        "    ax.bar(np.arange(len(means)), means, yerr=stds,\n",
        "           align='center', alpha=0.5, ecolor='red', capsize=10, width=0.6)\n",
        "    ax.set_ylabel('ResNet50 Execution Time (Second)')\n",
        "    ax.set_xticks(np.arange(len(means)))\n",
        "    ax.set_xticklabels(labels)\n",
        "    ax.yaxis.grid(True)\n",
        "    plt.tight_layout()\n",
        "    plt.show()\n",
        "\n",
        "plot([mp_mean, rn_mean],\n",
        "     [mp_std, rn_std],\n",
        "     ['Model Parallel', 'Single GPU'],\n",
        "     'mp_vs_rn.png')"
      ],
      "metadata": {
        "colab": {
          "base_uri": "https://localhost:8080/",
          "height": 1000
        },
        "id": "7tCu8g91PDM0",
        "outputId": "1108a4fc-b71e-4f9e-9909-a34f1fba1090"
      },
      "execution_count": null,
      "outputs": [
        {
          "metadata": {
            "tags": null
          },
          "name": "stderr",
          "output_type": "stream",
          "text": [
            "/usr/local/lib/python3.7/dist-packages/torch/nn/modules/loss.py:520: UserWarning: Using a target size (torch.Size([4, 1])) that is different to the input size (torch.Size([4, 10])). This will likely lead to incorrect results due to broadcasting. Please ensure they have the same size.\n",
            "  return F.mse_loss(input, target, reduction=self.reduction)\n"
          ]
        },
        {
          "metadata": {
            "tags": null
          },
          "name": "stdout",
          "output_type": "stream",
          "text": [
            "[1,  2000] loss: 15.911\n",
            "[1,  4000] loss: 12.325\n",
            "[1,  6000] loss: 11.136\n",
            "[1,  8000] loss: 10.108\n",
            "[1, 10000] loss: 9.773\n",
            "[1, 12000] loss: 9.091\n",
            "[2,  2000] loss: 9.067\n",
            "[2,  4000] loss: 8.666\n",
            "[2,  6000] loss: 8.937\n",
            "[2,  8000] loss: 9.032\n",
            "[2, 10000] loss: 8.651\n",
            "[2, 12000] loss: 8.604\n",
            "Finished Training\n",
            "[1,  2000] loss: 17.223\n",
            "[1,  4000] loss: 11.818\n",
            "[1,  6000] loss: 10.516\n",
            "[1,  8000] loss: 10.421\n",
            "[1, 10000] loss: 9.671\n",
            "[1, 12000] loss: 8.964\n",
            "[2,  2000] loss: 9.048\n",
            "[2,  4000] loss: 8.760\n",
            "[2,  6000] loss: 8.593\n",
            "[2,  8000] loss: 8.572\n",
            "[2, 10000] loss: 8.604\n",
            "[2, 12000] loss: 8.469\n",
            "Finished Training\n",
            "[1,  2000] loss: 16.307\n",
            "[1,  4000] loss: 11.397\n",
            "[1,  6000] loss: 10.484\n",
            "[1,  8000] loss: 9.475\n",
            "[1, 10000] loss: 9.550\n",
            "[1, 12000] loss: 9.109\n",
            "[2,  2000] loss: 8.658\n",
            "[2,  4000] loss: 8.823\n",
            "[2,  6000] loss: 8.680\n",
            "[2,  8000] loss: 8.736\n",
            "[2, 10000] loss: 8.584\n",
            "[2, 12000] loss: 8.742\n",
            "Finished Training\n",
            "[1,  2000] loss: 16.541\n",
            "[1,  4000] loss: 11.625\n",
            "[1,  6000] loss: 10.636\n",
            "[1,  8000] loss: 9.914\n",
            "[1, 10000] loss: 10.040\n",
            "[1, 12000] loss: 9.669\n",
            "[2,  2000] loss: 8.962\n",
            "[2,  4000] loss: 8.847\n",
            "[2,  6000] loss: 8.628\n",
            "[2,  8000] loss: 8.615\n",
            "[2, 10000] loss: 8.399\n",
            "[2, 12000] loss: 8.445\n",
            "Finished Training\n",
            "[1,  2000] loss: 16.416\n",
            "[1,  4000] loss: 12.974\n",
            "[1,  6000] loss: 11.245\n",
            "[1,  8000] loss: 10.016\n",
            "[1, 10000] loss: 9.566\n",
            "[1, 12000] loss: 9.354\n",
            "[2,  2000] loss: 9.113\n",
            "[2,  4000] loss: 8.689\n",
            "[2,  6000] loss: 8.758\n",
            "[2,  8000] loss: 8.648\n",
            "[2, 10000] loss: 8.550\n",
            "[2, 12000] loss: 8.659\n",
            "Finished Training\n",
            "[1,  2000] loss: 15.161\n",
            "[1,  4000] loss: 12.024\n",
            "[1,  6000] loss: 11.461\n",
            "[1,  8000] loss: 10.523\n",
            "[1, 10000] loss: 9.795\n",
            "[1, 12000] loss: 9.370\n",
            "[2,  2000] loss: 8.960\n",
            "[2,  4000] loss: 8.954\n",
            "[2,  6000] loss: 8.661\n",
            "[2,  8000] loss: 8.788\n",
            "[2, 10000] loss: 8.603\n",
            "[2, 12000] loss: 8.357\n",
            "Finished Training\n",
            "[1,  2000] loss: 17.651\n",
            "[1,  4000] loss: 11.970\n",
            "[1,  6000] loss: 10.414\n",
            "[1,  8000] loss: 9.609\n",
            "[1, 10000] loss: 9.112\n",
            "[1, 12000] loss: 8.831\n",
            "[2,  2000] loss: 8.687\n",
            "[2,  4000] loss: 8.765\n",
            "[2,  6000] loss: 8.921\n",
            "[2,  8000] loss: 8.735\n",
            "[2, 10000] loss: 8.721\n",
            "[2, 12000] loss: 8.725\n",
            "Finished Training\n",
            "[1,  2000] loss: 16.704\n",
            "[1,  4000] loss: 12.285\n",
            "[1,  6000] loss: 11.039\n",
            "[1,  8000] loss: 9.912\n",
            "[1, 10000] loss: 9.941\n",
            "[1, 12000] loss: 9.488\n",
            "[2,  2000] loss: 8.868\n",
            "[2,  4000] loss: 8.733\n",
            "[2,  6000] loss: 8.793\n",
            "[2,  8000] loss: 8.573\n",
            "[2, 10000] loss: 8.680\n",
            "[2, 12000] loss: 8.556\n",
            "Finished Training\n",
            "[1,  2000] loss: 16.591\n",
            "[1,  4000] loss: 11.920\n",
            "[1,  6000] loss: 10.521\n",
            "[1,  8000] loss: 9.778\n",
            "[1, 10000] loss: 9.318\n",
            "[1, 12000] loss: 8.901\n",
            "[2,  2000] loss: 8.737\n",
            "[2,  4000] loss: 8.871\n",
            "[2,  6000] loss: 8.864\n",
            "[2,  8000] loss: 8.700\n",
            "[2, 10000] loss: 8.837\n",
            "[2, 12000] loss: 8.739\n",
            "Finished Training\n",
            "[1,  2000] loss: 16.398\n",
            "[1,  4000] loss: 12.629\n",
            "[1,  6000] loss: 11.556\n",
            "[1,  8000] loss: 9.996\n",
            "[1, 10000] loss: 9.698\n",
            "[1, 12000] loss: 9.015\n",
            "[2,  2000] loss: 8.870\n",
            "[2,  4000] loss: 8.640\n",
            "[2,  6000] loss: 8.598\n",
            "[2,  8000] loss: 8.565\n",
            "[2, 10000] loss: 8.574\n",
            "[2, 12000] loss: 8.581\n",
            "Finished Training\n",
            "[1,  2000] loss: 15.941\n",
            "[1,  4000] loss: 12.573\n",
            "[1,  6000] loss: 10.902\n",
            "[1,  8000] loss: 9.567\n",
            "[1, 10000] loss: 9.181\n",
            "[1, 12000] loss: 9.102\n",
            "[2,  2000] loss: 8.914\n",
            "[2,  4000] loss: 8.716\n",
            "[2,  6000] loss: 8.823\n",
            "[2,  8000] loss: 8.640\n",
            "[2, 10000] loss: 8.634\n",
            "[2, 12000] loss: 8.900\n",
            "Finished Training\n",
            "[1,  2000] loss: 15.879\n",
            "[1,  4000] loss: 12.100\n",
            "[1,  6000] loss: 11.004\n",
            "[1,  8000] loss: 10.529\n",
            "[1, 10000] loss: 9.695\n",
            "[1, 12000] loss: 9.274\n",
            "[2,  2000] loss: 9.589\n",
            "[2,  4000] loss: 9.394\n",
            "[2,  6000] loss: 9.231\n",
            "[2,  8000] loss: 8.946\n",
            "[2, 10000] loss: 8.941\n",
            "[2, 12000] loss: 8.665\n",
            "Finished Training\n",
            "[1,  2000] loss: 16.313\n",
            "[1,  4000] loss: 13.604\n",
            "[1,  6000] loss: 11.048\n",
            "[1,  8000] loss: 10.396\n",
            "[1, 10000] loss: 9.774\n",
            "[1, 12000] loss: 9.148\n",
            "[2,  2000] loss: 8.882\n",
            "[2,  4000] loss: 8.708\n",
            "[2,  6000] loss: 8.873\n",
            "[2,  8000] loss: 8.683\n",
            "[2, 10000] loss: 8.822\n",
            "[2, 12000] loss: 8.832\n",
            "Finished Training\n",
            "[1,  2000] loss: 15.280\n",
            "[1,  4000] loss: 12.322\n",
            "[1,  6000] loss: 10.564\n",
            "[1,  8000] loss: 10.364\n",
            "[1, 10000] loss: 10.010\n",
            "[1, 12000] loss: 9.875\n",
            "[2,  2000] loss: 9.375\n",
            "[2,  4000] loss: 9.022\n",
            "[2,  6000] loss: 8.915\n",
            "[2,  8000] loss: 9.216\n",
            "[2, 10000] loss: 8.976\n",
            "[2, 12000] loss: 8.712\n",
            "Finished Training\n",
            "[1,  2000] loss: 15.315\n",
            "[1,  4000] loss: 11.784\n",
            "[1,  6000] loss: 11.190\n",
            "[1,  8000] loss: 10.225\n",
            "[1, 10000] loss: 10.385\n",
            "[1, 12000] loss: 9.311\n",
            "[2,  2000] loss: 9.043\n",
            "[2,  4000] loss: 8.927\n",
            "[2,  6000] loss: 8.739\n",
            "[2,  8000] loss: 8.705\n",
            "[2, 10000] loss: 8.442\n",
            "[2, 12000] loss: 8.581\n",
            "Finished Training\n",
            "[1,  2000] loss: 16.644\n",
            "[1,  4000] loss: 11.858\n",
            "[1,  6000] loss: 10.262\n",
            "[1,  8000] loss: 9.670\n",
            "[1, 10000] loss: 9.305\n",
            "[1, 12000] loss: 9.107\n",
            "[2,  2000] loss: 8.811\n",
            "[2,  4000] loss: 8.828\n",
            "[2,  6000] loss: 8.840\n",
            "[2,  8000] loss: 8.652\n",
            "[2, 10000] loss: 8.540\n",
            "[2, 12000] loss: 8.544\n",
            "Finished Training\n",
            "[1,  2000] loss: 16.467\n",
            "[1,  4000] loss: 12.363\n",
            "[1,  6000] loss: 10.553\n",
            "[1,  8000] loss: 10.094\n",
            "[1, 10000] loss: 9.887\n",
            "[1, 12000] loss: 9.610\n",
            "[2,  2000] loss: 9.154\n",
            "[2,  4000] loss: 8.807\n",
            "[2,  6000] loss: 8.651\n",
            "[2,  8000] loss: 8.552\n",
            "[2, 10000] loss: 8.482\n",
            "[2, 12000] loss: 8.597\n",
            "Finished Training\n",
            "[1,  2000] loss: 15.715\n",
            "[1,  4000] loss: 11.076\n",
            "[1,  6000] loss: 9.863\n",
            "[1,  8000] loss: 9.073\n",
            "[1, 10000] loss: 9.076\n",
            "[1, 12000] loss: 9.113\n",
            "[2,  2000] loss: 9.144\n",
            "[2,  4000] loss: 8.843\n",
            "[2,  6000] loss: 8.741\n",
            "[2,  8000] loss: 8.838\n",
            "[2, 10000] loss: 8.852\n",
            "[2, 12000] loss: 8.608\n",
            "Finished Training\n",
            "[1,  2000] loss: 17.141\n",
            "[1,  4000] loss: 12.544\n",
            "[1,  6000] loss: 10.557\n",
            "[1,  8000] loss: 9.691\n",
            "[1, 10000] loss: 9.318\n",
            "[1, 12000] loss: 9.175\n",
            "[2,  2000] loss: 8.980\n",
            "[2,  4000] loss: 8.750\n",
            "[2,  6000] loss: 8.699\n",
            "[2,  8000] loss: 8.420\n",
            "[2, 10000] loss: 8.434\n",
            "[2, 12000] loss: 8.593\n",
            "Finished Training\n",
            "[1,  2000] loss: 16.042\n",
            "[1,  4000] loss: 12.115\n",
            "[1,  6000] loss: 11.129\n",
            "[1,  8000] loss: 10.079\n",
            "[1, 10000] loss: 9.510\n",
            "[1, 12000] loss: 9.355\n",
            "[2,  2000] loss: 8.917\n",
            "[2,  4000] loss: 8.939\n",
            "[2,  6000] loss: 9.273\n",
            "[2,  8000] loss: 8.767\n",
            "[2, 10000] loss: 8.845\n",
            "[2, 12000] loss: 8.575\n",
            "Finished Training\n"
          ]
        },
        {
          "data": {
            "image/png": "[encoded data removed]",
            "text/plain": [
              "<Figure size 432x288 with 1 Axes>"
            ]
          },
          "metadata": {},
          "output_type": "display_data"
        }
      ]
    },
    {
      "cell_type": "markdown",
      "source": [
        "For the next experiment, we will add the pipeline parallelism on top of the original model parallelism spliting layers onto different GPU. We will first define the model as below and test it on the original randomly generated inputs and labels and split up the 120-image batch into 20-image splits."
      ],
      "metadata": {
        "id": "fqG61G0-l0ba"
      }
    },
    {
      "cell_type": "code",
      "source": [
        "class PipelineParallelResNet50(ModelParallelResNet50):\n",
        "    def __init__(self, split_size=20, *args, **kwargs):\n",
        "        super(PipelineParallelResNet50, self).__init__(*args, **kwargs)\n",
        "        self.split_size = split_size\n",
        "\n",
        "    def forward(self, x):\n",
        "        splits = iter(x.split(self.split_size, dim=0))\n",
        "        s_next = next(splits)\n",
        "        s_prev = self.seq1(s_next).to('cuda:1')\n",
        "        ret = []\n",
        "\n",
        "        for s_next in splits:\n",
        "            # A. s_prev runs on cuda:1\n",
        "            s_prev = self.seq2(s_prev)\n",
        "            ret.append(self.fc(s_prev.view(s_prev.size(0), -1)))\n",
        "\n",
        "            # B. s_next runs on cuda:0, which can run concurrently with A\n",
        "            s_prev = self.seq1(s_next).to('cuda:1')\n",
        "\n",
        "        s_prev = self.seq2(s_prev)\n",
        "        ret.append(self.fc(s_prev.view(s_prev.size(0), -1)))\n",
        "\n",
        "        return torch.cat(ret)\n",
        "\n",
        "\n",
        "setup = \"model = PipelineParallelResNet50()\"\n",
        "pp_run_times = timeit.repeat(\n",
        "    stmt, setup, number=1, repeat=num_repeat, globals=globals())\n",
        "pp_mean, pp_std = np.mean(pp_run_times), np.std(pp_run_times)\n",
        "\n",
        "plot([mp_mean, rn_mean, pp_mean],\n",
        "     [mp_std, rn_std, pp_std],\n",
        "     ['Model Parallel', 'Single GPU', 'Pipelining Model Parallel'],\n",
        "     'mp_vs_rn_vs_pp.png')"
      ],
      "metadata": {
        "id": "4YfPhHO2NU9o",
        "colab": {
          "base_uri": "https://localhost:8080/",
          "height": 297
        },
        "outputId": "c058b725-0e51-48e0-c4e6-d6ba8709f9fd"
      },
      "execution_count": null,
      "outputs": [
        {
          "output_type": "display_data",
          "data": {
            "image/png": "[encoded data removed]",
            "text/plain": [
              "<Figure size 432x288 with 1 Axes>"
            ]
          },
          "metadata": {
            "needs_background": "light"
          }
        }
      ]
    },
    {
      "cell_type": "markdown",
      "source": [
        "We then create the experiments again with the CIFAR-10:"
      ],
      "metadata": {
        "id": "r4k6hK7Qp8fz"
      }
    },
    {
      "cell_type": "code",
      "source": [
        "setup = \"model = ModelParallelResNet50()\"\n",
        "mp_run_times = timeit.repeat(\n",
        "    stmt, setup, number=1, repeat=num_repeat, globals=globals())\n",
        "mp_mean, mp_std = np.mean(mp_run_times), np.std(mp_run_times)\n",
        "\n",
        "setup = \"import torchvision.models as models;\" + \\\n",
        "        \"model = models.resnet50(num_classes=num_classes).to('cuda:0')\"\n",
        "rn_run_times = timeit.repeat(\n",
        "    stmt, setup, number=1, repeat=num_repeat, globals=globals())\n",
        "rn_mean, rn_std = np.mean(rn_run_times), np.std(rn_run_times)\n",
        "\n",
        "setup = \"model = PipelineParallelResNet50()\"\n",
        "pp_run_times = timeit.repeat(\n",
        "    stmt, setup, number=1, repeat=num_repeat, globals=globals())\n",
        "pp_mean, pp_std = np.mean(pp_run_times), np.std(pp_run_times)"
      ],
      "metadata": {
        "colab": {
          "base_uri": "https://localhost:8080/"
        },
        "id": "m8t2lP6bovEG",
        "outputId": "464c3ef3-861d-4c29-d6f4-7b8220e132f7"
      },
      "execution_count": null,
      "outputs": [
        {
          "output_type": "stream",
          "name": "stderr",
          "text": [
            "/usr/local/lib/python3.7/dist-packages/torch/nn/modules/loss.py:520: UserWarning: Using a target size (torch.Size([120, 1])) that is different to the input size (torch.Size([120, 10])). This will likely lead to incorrect results due to broadcasting. Please ensure they have the same size.\n",
            "  return F.mse_loss(input, target, reduction=self.reduction)\n",
            "/usr/local/lib/python3.7/dist-packages/torch/nn/modules/loss.py:520: UserWarning: Using a target size (torch.Size([80, 1])) that is different to the input size (torch.Size([80, 10])). This will likely lead to incorrect results due to broadcasting. Please ensure they have the same size.\n",
            "  return F.mse_loss(input, target, reduction=self.reduction)\n"
          ]
        },
        {
          "output_type": "stream",
          "name": "stdout",
          "text": [
            "Finished Training\n",
            "Finished Training\n",
            "Finished Training\n",
            "Finished Training\n",
            "Finished Training\n",
            "Finished Training\n",
            "Finished Training\n",
            "Finished Training\n",
            "Finished Training\n",
            "Finished Training\n",
            "Finished Training\n",
            "Finished Training\n",
            "Finished Training\n",
            "Finished Training\n",
            "Finished Training\n",
            "Finished Training\n",
            "Finished Training\n",
            "Finished Training\n",
            "Finished Training\n",
            "Finished Training\n",
            "Finished Training\n",
            "Finished Training\n",
            "Finished Training\n",
            "Finished Training\n",
            "Finished Training\n",
            "Finished Training\n",
            "Finished Training\n",
            "Finished Training\n",
            "Finished Training\n",
            "Finished Training\n"
          ]
        }
      ]
    },
    {
      "cell_type": "code",
      "source": [
        "plot([mp_mean, rn_mean, pp_mean],\n",
        "     [mp_std, rn_std, pp_std],\n",
        "     ['Model Parallel', 'Single GPU', 'Pipelining Model Parallel'],\n",
        "     'mp_vs_rn_vs_pp.png')"
      ],
      "metadata": {
        "colab": {
          "base_uri": "https://localhost:8080/",
          "height": 297
        },
        "id": "Hq-nTuoFqwdp",
        "outputId": "0317862b-f133-4894-837e-8504f272029e"
      },
      "execution_count": null,
      "outputs": [
        {
          "output_type": "display_data",
          "data": {
            "image/png": "[encoded data removed]",
            "text/plain": [
              "<Figure size 432x288 with 1 Axes>"
            ]
          },
          "metadata": {
            "needs_background": "light"
          }
        }
      ]
    },
    {
      "cell_type": "code",
      "source": [
        "import timeit\n",
        "stmt = \"train(model)\"\n",
        "num_repeat = 10\n",
        "means = []\n",
        "stds = []\n",
        "split_sizes = [1, 3, 5, 8, 10, 12, 20, 40, 60]\n",
        "\n",
        "for split_size in split_sizes:\n",
        "    setup = \"model = PipelineParallelResNet50(split_size=%d)\" % split_size\n",
        "    pp_run_times = timeit.repeat(\n",
        "        stmt, setup, number=1, repeat=num_repeat, globals=globals())\n",
        "    means.append(np.mean(pp_run_times))\n",
        "    stds.append(np.std(pp_run_times))\n",
        "\n",
        "fig, ax = plt.subplots()\n",
        "ax.plot(split_sizes, means)\n",
        "ax.errorbar(split_sizes, means, yerr=stds, ecolor='red', fmt='ro')\n",
        "ax.set_ylabel('ResNet50 Execution Time (Second)')\n",
        "ax.set_xlabel('Pipeline Split Size')\n",
        "ax.set_xticks(split_sizes)\n",
        "ax.yaxis.grid(True)\n",
        "plt.tight_layout()\n",
        "plt.show()"
      ],
      "metadata": {
        "colab": {
          "base_uri": "https://localhost:8080/",
          "height": 297
        },
        "id": "DZd4qnZ0Uv0X",
        "outputId": "734528b1-0b1d-4150-98ff-6c4c2ffb093b"
      },
      "execution_count": null,
      "outputs": [
        {
          "output_type": "display_data",
          "data": {
            "image/png": "[encoded data removed]",
            "text/plain": [
              "<Figure size 432x288 with 1 Axes>"
            ]
          },
          "metadata": {
            "needs_background": "light"
          }
        }
      ]
    },
    {
      "cell_type": "code",
      "source": [
        "class PipelineParallelResNet50(ModelParallelResNet50):\n",
        "    def __init__(self, split_size=8, *args, **kwargs):\n",
        "        super(PipelineParallelResNet50, self).__init__(*args, **kwargs)\n",
        "        self.split_size = split_size\n",
        "\n",
        "    def forward(self, x):\n",
        "        splits = iter(x.split(self.split_size, dim=0))\n",
        "        s_next = next(splits)\n",
        "        s_prev = self.seq1(s_next).to('cuda:1')\n",
        "        ret = []\n",
        "\n",
        "        for s_next in splits:\n",
        "            # A. s_prev runs on cuda:1\n",
        "            s_prev = self.seq2(s_prev)\n",
        "            ret.append(self.fc(s_prev.view(s_prev.size(0), -1)))\n",
        "\n",
        "            # B. s_next runs on cuda:0, which can run concurrently with A\n",
        "            s_prev = self.seq1(s_next).to('cuda:1')\n",
        "\n",
        "        s_prev = self.seq2(s_prev)\n",
        "        ret.append(self.fc(s_prev.view(s_prev.size(0), -1)))\n",
        "\n",
        "        return torch.cat(ret)\n",
        "\n",
        "setup = \"model = ModelParallelResNet50()\"\n",
        "mp_run_times = timeit.repeat(\n",
        "    stmt, setup, number=1, repeat=num_repeat, globals=globals())\n",
        "mp_mean, mp_std = np.mean(mp_run_times), np.std(mp_run_times)\n",
        "\n",
        "setup = \"import torchvision.models as models;\" + \\\n",
        "        \"model = models.resnet50(num_classes=num_classes).to('cuda:0')\"\n",
        "rn_run_times = timeit.repeat(\n",
        "    stmt, setup, number=1, repeat=num_repeat, globals=globals())\n",
        "rn_mean, rn_std = np.mean(rn_run_times), np.std(rn_run_times)\n",
        "\n",
        "setup = \"model = PipelineParallelResNet50()\"\n",
        "pp_run_times = timeit.repeat(\n",
        "    stmt, setup, number=1, repeat=num_repeat, globals=globals())\n",
        "pp_mean, pp_std = np.mean(pp_run_times), np.std(pp_run_times)"
      ],
      "metadata": {
        "colab": {
          "base_uri": "https://localhost:8080/"
        },
        "id": "maCwEE9_TEgb",
        "outputId": "c86ccea0-5090-44d5-df4f-a5214bc79db4"
      },
      "execution_count": null,
      "outputs": [
        {
          "output_type": "stream",
          "name": "stderr",
          "text": [
            "/usr/local/lib/python3.7/dist-packages/torch/nn/modules/loss.py:520: UserWarning: Using a target size (torch.Size([32, 1])) that is different to the input size (torch.Size([32, 10])). This will likely lead to incorrect results due to broadcasting. Please ensure they have the same size.\n",
            "  return F.mse_loss(input, target, reduction=self.reduction)\n",
            "/usr/local/lib/python3.7/dist-packages/torch/nn/modules/loss.py:520: UserWarning: Using a target size (torch.Size([16, 1])) that is different to the input size (torch.Size([16, 10])). This will likely lead to incorrect results due to broadcasting. Please ensure they have the same size.\n",
            "  return F.mse_loss(input, target, reduction=self.reduction)\n"
          ]
        },
        {
          "output_type": "stream",
          "name": "stdout",
          "text": [
            "Finished Training\n",
            "Finished Training\n",
            "Finished Training\n",
            "Finished Training\n",
            "Finished Training\n",
            "Finished Training\n",
            "Finished Training\n",
            "Finished Training\n",
            "Finished Training\n",
            "Finished Training\n",
            "Finished Training\n",
            "Finished Training\n",
            "Finished Training\n",
            "Finished Training\n",
            "Finished Training\n",
            "Finished Training\n",
            "Finished Training\n",
            "Finished Training\n",
            "Finished Training\n",
            "Finished Training\n",
            "Finished Training\n",
            "Finished Training\n",
            "Finished Training\n",
            "Finished Training\n",
            "Finished Training\n",
            "Finished Training\n",
            "Finished Training\n",
            "Finished Training\n",
            "Finished Training\n",
            "Finished Training\n"
          ]
        }
      ]
    },
    {
      "cell_type": "code",
      "source": [
        "def plot(means, stds, labels, fig_name):\n",
        "    fig, ax = plt.subplots()\n",
        "    ax.bar(np.arange(len(means)), means, yerr=stds,\n",
        "           align='center', alpha=0.5, ecolor='red', capsize=10, width=0.6)\n",
        "    ax.set_ylabel('ResNet50 Execution Time (Second)')\n",
        "    ax.set_xticks(np.arange(len(means)))\n",
        "    ax.set_xticklabels(labels)\n",
        "    ax.yaxis.grid(True)\n",
        "    plt.tight_layout()\n",
        "    plt.show()"
      ],
      "metadata": {
        "id": "vpZhsC3Otlnj"
      },
      "execution_count": null,
      "outputs": []
    },
    {
      "cell_type": "code",
      "source": [
        "plot([mp_mean, rn_mean, pp_mean],\n",
        "     [mp_std, rn_std, pp_std],\n",
        "     ['Model Parallel', 'Single GPU', 'Pipelining Model Parallel'],\n",
        "     'mp_vs_rn_vs_pp.png')"
      ],
      "metadata": {
        "colab": {
          "base_uri": "https://localhost:8080/",
          "height": 297
        },
        "id": "6qR0pEjnUpWY",
        "outputId": "984635c3-406c-4ea6-9da4-9a38f14d3810"
      },
      "execution_count": null,
      "outputs": [
        {
          "output_type": "display_data",
          "data": {
            "image/png": "[encoded data removed]",
            "text/plain": [
              "<Figure size 432x288 with 1 Axes>"
            ]
          },
          "metadata": {
            "needs_background": "light"
          }
        }
      ]
    },
    {
      "cell_type": "code",
      "source": [
        "class PipelineParallelResNet50(ModelParallelResNet50):\n",
        "    def __init__(self, split_size=20, *args, **kwargs):\n",
        "        super(PipelineParallelResNet50, self).__init__(*args, **kwargs)\n",
        "        self.split_size = split_size\n",
        "\n",
        "    def forward(self, x):\n",
        "        splits = iter(x.split(self.split_size, dim=0))\n",
        "        s_next = next(splits)\n",
        "        s_prev = self.seq1(s_next).to('cuda:1')\n",
        "        ret = []\n",
        "\n",
        "        for s_next in splits:\n",
        "            # A. s_prev runs on cuda:1\n",
        "            s_prev = self.seq2(s_prev)\n",
        "            ret.append(self.fc(s_prev.view(s_prev.size(0), -1)))\n",
        "\n",
        "            # B. s_next runs on cuda:0, which can run concurrently with A\n",
        "            s_prev = self.seq1(s_next).to('cuda:1')\n",
        "\n",
        "        s_prev = self.seq2(s_prev)\n",
        "        ret.append(self.fc(s_prev.view(s_prev.size(0), -1)))\n",
        "\n",
        "        return torch.cat(ret)"
      ],
      "metadata": {
        "id": "V9w66_7ZvzYi"
      },
      "execution_count": 21,
      "outputs": []
    },
    {
      "cell_type": "code",
      "source": [
        "import timeit\n",
        "stmt = \"train(model)\"\n",
        "num_repeat = 10\n",
        "means = []\n",
        "stds = []\n",
        "split_sizes = [1, 4, 8, 16]\n",
        "\n",
        "for split_size in split_sizes:\n",
        "    setup = \"model = PipelineParallelResNet50(split_size=%d)\" % split_size\n",
        "    pp_run_times = timeit.repeat(\n",
        "        stmt, setup, number=1, repeat=num_repeat, globals=globals())\n",
        "    means.append(np.mean(pp_run_times))\n",
        "    stds.append(np.std(pp_run_times))\n",
        "\n",
        "fig, ax = plt.subplots()\n",
        "ax.plot(split_sizes, means)\n",
        "ax.errorbar(split_sizes, means, yerr=stds, ecolor='red', fmt='ro')\n",
        "ax.set_ylabel('ResNet50 Execution Time (Second)')\n",
        "ax.set_xlabel('Pipeline Split Size')\n",
        "ax.set_xticks(split_sizes)\n",
        "ax.yaxis.grid(True)\n",
        "plt.tight_layout()\n",
        "plt.show()"
      ],
      "metadata": {
        "id": "GBR8vpRlubyK"
      },
      "execution_count": null,
      "outputs": []
    }
  ]
}