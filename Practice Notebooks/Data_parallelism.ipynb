{
 "cells": [
  {
   "cell_type": "code",
   "execution_count": 16,
   "id": "eed45c65-e296-468f-85ce-a826ceba23f4",
   "metadata": {},
   "outputs": [
    {
     "name": "stdout",
     "output_type": "stream",
     "text": [
      "Files already downloaded and verified\n",
      "Files already downloaded and verified\n"
     ]
    }
   ],
   "source": [
    "import torch\n",
    "import torchvision\n",
    "import torchvision.transforms as transforms\n",
    "from time import time\n",
    "\n",
    "# Set device\n",
    "device = torch.device(\"cuda:0\" if torch.cuda.is_available() else \"cpu\")\n",
    "\n",
    "transform = transforms.Compose(\n",
    "    [transforms.ToTensor(),\n",
    "     transforms.Normalize((0.5, 0.5, 0.5), (0.5, 0.5, 0.5))])\n",
    "\n",
    "batch_size = 4\n",
    "\n",
    "# Load CIFAR10 dataset\n",
    "train_dataset = torchvision.datasets.CIFAR10(root='data/',\n",
    "                                             train=True,\n",
    "                                             download=True,\n",
    "                                             transform=transform)\n",
    "test_dataset = torchvision.datasets.CIFAR10(root='data/',\n",
    "                                            train=False,\n",
    "                                            download=True,\n",
    "                                            transform=transform)"
   ]
  },
  {
   "cell_type": "code",
   "execution_count": 8,
   "id": "bfa3f795-df7b-4c59-8464-aa7e1e0a25ac",
   "metadata": {},
   "outputs": [
    {
     "data": {
      "text/plain": [
       "Net(\n",
       "  (conv1): Conv2d(3, 6, kernel_size=(5, 5), stride=(1, 1))\n",
       "  (pool): MaxPool2d(kernel_size=2, stride=2, padding=0, dilation=1, ceil_mode=False)\n",
       "  (conv2): Conv2d(6, 16, kernel_size=(5, 5), stride=(1, 1))\n",
       "  (fc1): Linear(in_features=400, out_features=120, bias=True)\n",
       "  (fc2): Linear(in_features=120, out_features=84, bias=True)\n",
       "  (fc3): Linear(in_features=84, out_features=10, bias=True)\n",
       ")"
      ]
     },
     "execution_count": 8,
     "metadata": {},
     "output_type": "execute_result"
    }
   ],
   "source": [
    "import torch.nn as nn\n",
    "import torch.nn.functional as F\n",
    "\n",
    "\n",
    "class Net(nn.Module):\n",
    "    def __init__(self):\n",
    "        super().__init__()\n",
    "        self.conv1 = nn.Conv2d(3, 6, 5)\n",
    "        self.pool = nn.MaxPool2d(2, 2)\n",
    "        self.conv2 = nn.Conv2d(6, 16, 5)\n",
    "        self.fc1 = nn.Linear(16 * 5 * 5, 120)\n",
    "        self.fc2 = nn.Linear(120, 84)\n",
    "        self.fc3 = nn.Linear(84, 10)\n",
    "\n",
    "    def forward(self, x):\n",
    "        x = self.pool(F.relu(self.conv1(x)))\n",
    "        x = self.pool(F.relu(self.conv2(x)))\n",
    "        x = torch.flatten(x, 1) # flatten all dimensions except batch\n",
    "        x = F.relu(self.fc1(x))\n",
    "        x = F.relu(self.fc2(x))\n",
    "        x = self.fc3(x)\n",
    "        return x\n",
    "\n",
    "\n",
    "model = Net()\n",
    "model.to(device)"
   ]
  },
  {
   "cell_type": "code",
   "execution_count": 9,
   "id": "2a391d6f-bbbf-4244-aec2-f4317df2f8d4",
   "metadata": {},
   "outputs": [],
   "source": [
    "# Define dataloaders\n",
    "train_dataloader = torch.utils.data.DataLoader(train_dataset, batch_size=64, shuffle=True, num_workers=4)\n",
    "test_dataloader = torch.utils.data.DataLoader(test_dataset, batch_size=64, shuffle=False, num_workers=4)\n",
    "\n",
    "# # Define model\n",
    "# model = MyModel()\n",
    "\n",
    "# # Move model to device\n",
    "# model = model.to(device)\n",
    "\n",
    "# Define loss function and optimizer\n",
    "criterion = torch.nn.CrossEntropyLoss()\n",
    "optimizer = torch.optim.SGD(model.parameters(), lr=0.001)\n"
   ]
  },
  {
   "cell_type": "code",
   "execution_count": 10,
   "id": "6b76aa5d-fe52-408d-ac31-afb8026a1ef9",
   "metadata": {},
   "outputs": [],
   "source": [
    "# Set number of GPUs\n",
    "num_gpus = torch.cuda.device_count()\n",
    "\n",
    "# Use data parallelism\n",
    "if num_gpus > 1:\n",
    "    model = torch.nn.DataParallel(model)"
   ]
  },
  {
   "cell_type": "code",
   "execution_count": 12,
   "id": "1112bd0d-0c4a-44a8-9a09-1dd4ee801dee",
   "metadata": {},
   "outputs": [],
   "source": [
    "num_epochs = 2"
   ]
  },
  {
   "cell_type": "code",
   "execution_count": 13,
   "id": "99181db2-7919-44d7-9248-d34c36298b88",
   "metadata": {},
   "outputs": [],
   "source": [
    "# Train model\n",
    "for epoch in range(num_epochs):\n",
    "    for inputs, labels in train_dataloader:\n",
    "        # Move inputs and labels to device\n",
    "        inputs = inputs.to(device)\n",
    "        labels = labels.to(device)\n",
    "\n",
    "        # Zero the gradients\n",
    "        optimizer.zero_grad()\n",
    "\n",
    "        # Forward pass\n",
    "        outputs = model(inputs)\n",
    "        loss = criterion(outputs, labels)\n",
    "\n",
    "        # Backward pass and optimization step\n",
    "        loss.backward()\n",
    "        optimizer.step()\n",
    "\n"
   ]
  },
  {
   "cell_type": "code",
   "execution_count": 18,
   "id": "3dc012e3-2e19-4aea-a72d-8603b7e075d1",
   "metadata": {},
   "outputs": [],
   "source": [
    "def model_training(net, epochs):\n",
    "    t1 = time()\n",
    "    for epoch in range(epochs):\n",
    "        running_loss = 0.0\n",
    "        for i, data in enumerate(train_dataloader, 0):\n",
    "            # get the inputs; data is a list of [inputs, labels]\n",
    "            # inputs, labels = data\n",
    "            inputs, labels = data[0].to(device), data[1].to(device)\n",
    "\n",
    "            # zero the parameter gradients\n",
    "            optimizer.zero_grad()\n",
    "\n",
    "            # forward + backward + optimize\n",
    "            outputs = net(inputs)\n",
    "            loss = criterion(outputs, labels)\n",
    "            loss.backward()\n",
    "            optimizer.step()\n",
    "\n",
    "            # print statistics\n",
    "            running_loss += loss.item()\n",
    "            if i % 2000 == 1999:    # print every 2000 mini-batches\n",
    "                print(f'[{epoch + 1}, {i + 1:5d}] loss: {running_loss / 2000:.3f}')\n",
    "                running_loss = 0.0\n",
    "                \n",
    "    t2=time()\n",
    "    print('Finished Training'+ ' took ' + str(t2-t1))\n",
    "    return running_loss, t2-t1"
   ]
  },
  {
   "cell_type": "code",
   "execution_count": 19,
   "id": "90ac956e-c035-434c-ad92-511b35dbf483",
   "metadata": {},
   "outputs": [
    {
     "name": "stdout",
     "output_type": "stream",
     "text": [
      "Finished Training took 42.38906502723694\n"
     ]
    },
    {
     "data": {
      "text/plain": [
       "(1797.4068274497986, 42.38906502723694)"
      ]
     },
     "execution_count": 19,
     "metadata": {},
     "output_type": "execute_result"
    }
   ],
   "source": [
    "model_training(model,4)"
   ]
  },
  {
   "cell_type": "code",
   "execution_count": 55,
   "id": "7df6f096-c318-4a18-8c37-ffb4cc37d34a",
   "metadata": {},
   "outputs": [],
   "source": [
    "from trainer import Trainer\n",
    "from visualizer import *"
   ]
  },
  {
   "cell_type": "code",
   "execution_count": null,
   "id": "a3a70593-e105-426c-b1c3-b4379ba469c8",
   "metadata": {},
   "outputs": [
    {
     "data": {
      "application/vnd.jupyter.widget-view+json": {
       "model_id": "3d1c89e1217644db8c6332e0c9def807",
       "version_major": 2,
       "version_minor": 0
      },
      "text/plain": [
       "Progress:   0%|          | 0/100 [00:00<?, ?it/s]"
      ]
     },
     "metadata": {},
     "output_type": "display_data"
    },
    {
     "data": {
      "application/vnd.jupyter.widget-view+json": {
       "model_id": "",
       "version_major": 2,
       "version_minor": 0
      },
      "text/plain": [
       "Training:   0%|          | 0/782 [00:00<?, ?it/s]"
      ]
     },
     "metadata": {},
     "output_type": "display_data"
    },
    {
     "data": {
      "application/vnd.jupyter.widget-view+json": {
       "model_id": "",
       "version_major": 2,
       "version_minor": 0
      },
      "text/plain": [
       "Validation:   0%|          | 0/157 [00:00<?, ?it/s]"
      ]
     },
     "metadata": {},
     "output_type": "display_data"
    },
    {
     "data": {
      "application/vnd.jupyter.widget-view+json": {
       "model_id": "ceb3635e511d4ae9b26eeef34720a5d1",
       "version_major": 2,
       "version_minor": 0
      },
      "text/plain": [
       "Training:   0%|          | 0/782 [00:00<?, ?it/s]"
      ]
     },
     "metadata": {},
     "output_type": "display_data"
    },
    {
     "data": {
      "application/vnd.jupyter.widget-view+json": {
       "model_id": "7ef5c27848564a8abd8514bb5059020d",
       "version_major": 2,
       "version_minor": 0
      },
      "text/plain": [
       "Training:   0%|          | 0/782 [00:00<?, ?it/s]"
      ]
     },
     "metadata": {},
     "output_type": "display_data"
    },
    {
     "data": {
      "application/vnd.jupyter.widget-view+json": {
       "model_id": "2a8fc25ddd7641a0960b1fffd5546a2e",
       "version_major": 2,
       "version_minor": 0
      },
      "text/plain": [
       "Training:   0%|          | 0/782 [00:00<?, ?it/s]"
      ]
     },
     "metadata": {},
     "output_type": "display_data"
    },
    {
     "data": {
      "application/vnd.jupyter.widget-view+json": {
       "model_id": "",
       "version_major": 2,
       "version_minor": 0
      },
      "text/plain": [
       "Validation:   0%|          | 0/157 [00:00<?, ?it/s]"
      ]
     },
     "metadata": {},
     "output_type": "display_data"
    },
    {
     "data": {
      "application/vnd.jupyter.widget-view+json": {
       "model_id": "666177b03ee64ab4849a01fe0bba6436",
       "version_major": 2,
       "version_minor": 0
      },
      "text/plain": [
       "Training:   0%|          | 0/782 [00:00<?, ?it/s]"
      ]
     },
     "metadata": {},
     "output_type": "display_data"
    }
   ],
   "source": [
    "# trainer\n",
    "num_epochs = 100\n",
    "trainer = Trainer(model=model,\n",
    "                  device=device,\n",
    "                  criterion=criterion,\n",
    "                  optimizer=optimizer,\n",
    "                  training_dataloader=train_dataloader,\n",
    "                  validation_dataloader=test_dataloader,\n",
    "                  lr_scheduler=None,\n",
    "                  epochs=num_epochs,\n",
    "                  epoch=0,\n",
    "                  notebook=True)\n",
    "\n",
    "# start training\n",
    "training_losses, validation_losses, lr_rates, training_times = trainer.run_trainer()"
   ]
  },
  {
   "cell_type": "code",
   "execution_count": null,
   "id": "b743a050-1755-4b28-8b4c-8cb56474e0a6",
   "metadata": {},
   "outputs": [],
   "source": [
    "vals"
   ]
  },
  {
   "cell_type": "code",
   "execution_count": 58,
   "id": "d84c8451-5b0b-4ab3-bf75-136978e3d4a0",
   "metadata": {},
   "outputs": [
    {
     "data": {
      "image/png": "[encoded data removed]",
      "text/plain": [
       "<Figure size 1000x400 with 2 Axes>"
      ]
     },
     "metadata": {},
     "output_type": "display_data"
    }
   ],
   "source": [
    "fig = plot_training(training_losses,\n",
    "    validation_losses,\n",
    "    training_times,\n",
    "    gaussian=True,\n",
    "    sigma=1,\n",
    "    figsize=(10, 4),\n",
    ")"
   ]
  },
  {
   "cell_type": "code",
   "execution_count": 62,
   "id": "868e625a-89ad-4337-8f68-73ab63a85956",
   "metadata": {},
   "outputs": [
    {
     "name": "stdout",
     "output_type": "stream",
     "text": [
      "The total Training Time for the model is 19.406968255837757mins\n"
     ]
    }
   ],
   "source": [
    "total_training_time = np.sum(training_times)\n",
    "print(\"The total Training Time for the model is \"+ str(total_training_time/60) + \"mins\")"
   ]
  },
  {
   "cell_type": "code",
   "execution_count": 42,
   "id": "31f642f8-f1f3-4984-960c-8585f5351a4f",
   "metadata": {},
   "outputs": [],
   "source": [
    "from typing import Optional\n",
    "\n",
    "import numpy as np\n",
    "import torch\n",
    "from torch.utils.data import Dataset\n",
    "from time import time\n",
    "\n",
    "\n",
    "class Trainer:\n",
    "    def __init__(\n",
    "        self,\n",
    "        model: torch.nn.Module,\n",
    "        device: torch.device,\n",
    "        criterion: torch.nn.Module,\n",
    "        optimizer: torch.optim.Optimizer,\n",
    "        training_dataloader: Dataset,\n",
    "        validation_dataloader: Optional[Dataset] = None,\n",
    "        lr_scheduler = None,\n",
    "        epochs: int = 100,\n",
    "        epoch: int = 0,\n",
    "        notebook: bool = False,\n",
    "    ):\n",
    "\n",
    "        self.model = model\n",
    "        self.criterion = criterion\n",
    "        self.optimizer = optimizer\n",
    "        self.lr_scheduler = lr_scheduler\n",
    "        self.training_dataloader = training_dataloader\n",
    "        self.validation_dataloader = validation_dataloader\n",
    "        self.device = device\n",
    "        self.epochs = epochs\n",
    "        self.epoch = epoch\n",
    "        self.notebook = notebook\n",
    "\n",
    "        self.training_loss = []\n",
    "        self.validation_loss = []\n",
    "        self.learning_rate = []\n",
    "        self.training_time = []\n",
    "\n",
    "    def run_trainer(self):\n",
    "\n",
    "        if self.notebook:\n",
    "            from tqdm.notebook import tqdm, trange\n",
    "        else:\n",
    "            from tqdm import tqdm, trange\n",
    "\n",
    "        progressbar = trange(self.epochs, desc=\"Progress\")\n",
    "        for i in progressbar:\n",
    "            \"\"\"Epoch counter\"\"\"\n",
    "            self.epoch += 1  # epoch counter\n",
    "\n",
    "            \"\"\"Training block\"\"\"\n",
    "            self._train()\n",
    "\n",
    "            \"\"\"Validation block\"\"\"\n",
    "            if self.validation_dataloader is not None:\n",
    "                self._validate()\n",
    "\n",
    "            \"\"\"Learning rate scheduler block\"\"\"\n",
    "            if self.lr_scheduler is not None:\n",
    "                if (\n",
    "                    self.validation_dataloader is not None\n",
    "                    and self.lr_scheduler.__class__.__name__ == \"ReduceLROnPlateau\"\n",
    "                ):\n",
    "                    self.lr_scheduler.batch(\n",
    "                        self.validation_loss[i]\n",
    "                    )  # learning rate scheduler step with validation loss\n",
    "                else:\n",
    "                    self.lr_scheduler.batch()  # learning rate scheduler step\n",
    "        return self.training_loss, self.validation_loss, self.learning_rate, self.training_time\n",
    "\n",
    "    def _train(self):\n",
    "\n",
    "        if self.notebook:\n",
    "            from tqdm.notebook import tqdm, trange\n",
    "        else:\n",
    "            from tqdm import tqdm, trange\n",
    "            \n",
    "        t1 = time()\n",
    "\n",
    "        self.model.train()  # train mode\n",
    "        train_losses = []  # accumulate the losses here\n",
    "        batch_iter = tqdm(\n",
    "            enumerate(self.training_dataloader),\n",
    "            \"Training\",\n",
    "            total=len(self.training_dataloader),\n",
    "            leave=False,\n",
    "        )\n",
    "\n",
    "        for i, (x, y) in batch_iter:\n",
    "            input_x, target_y = x.to(self.device), y.to(\n",
    "                self.device\n",
    "            )  # send to device (GPU or CPU)\n",
    "            self.optimizer.zero_grad()  # zerograd the parameters\n",
    "            out = self.model(input_x)  # one forward pass\n",
    "            loss = self.criterion(out, target_y)  # calculate loss\n",
    "            loss_value = loss.item()\n",
    "            train_losses.append(loss_value)\n",
    "            loss.backward()  # one backward pass\n",
    "            self.optimizer.step()  # update the parameters\n",
    "            \n",
    "\n",
    "            batch_iter.set_description(\n",
    "                f\"Training: (loss {loss_value:.4f})\"\n",
    "            )  # update progressbar\n",
    "            \n",
    "        t2 = time()\n",
    "\n",
    "        self.training_loss.append(np.mean(train_losses))\n",
    "        self.training_time.append(t2-t1)\n",
    "        self.learning_rate.append(self.optimizer.param_groups[0][\"lr\"])\n",
    "\n",
    "        batch_iter.close()\n",
    "\n",
    "    def _validate(self):\n",
    "\n",
    "        if self.notebook:\n",
    "            from tqdm.notebook import tqdm, trange\n",
    "        else:\n",
    "            from tqdm import tqdm, trange\n",
    "\n",
    "        self.model.eval()  # evaluation mode\n",
    "        valid_losses = []  # accumulate the losses here\n",
    "        batch_iter = tqdm(\n",
    "            enumerate(self.validation_dataloader),\n",
    "            \"Validation\",\n",
    "            total=len(self.validation_dataloader),\n",
    "            leave=False,\n",
    "        )\n",
    "\n",
    "        for i, (x, y) in batch_iter:\n",
    "            input, target = x.to(self.device), y.to(\n",
    "                self.device\n",
    "            )  # send to device (GPU or CPU)\n",
    "\n",
    "            with torch.no_grad():\n",
    "                out = self.model(input)\n",
    "                loss = self.criterion(out, target)\n",
    "                loss_value = loss.item()\n",
    "                valid_losses.append(loss_value)\n",
    "\n",
    "                batch_iter.set_description(f\"Validation: (loss {loss_value:.4f})\")\n",
    "\n",
    "        self.validation_loss.append(np.mean(valid_losses))\n",
    "\n",
    "        batch_iter.close()"
   ]
  },
  {
   "cell_type": "code",
   "execution_count": 59,
   "id": "a81533f0-5a58-45f6-8363-9f8763e66b79",
   "metadata": {},
   "outputs": [],
   "source": [
    "def plot_training(training_losses,\n",
    "                  validation_losses,\n",
    "                  learning_rate,\n",
    "                  gaussian=True,\n",
    "                  sigma=2,\n",
    "                  figsize=(8, 6)\n",
    "                  ):\n",
    "    \"\"\"\n",
    "    Returns a loss plot with training loss, validation loss and learning rate.\n",
    "    \"\"\"\n",
    "\n",
    "    import matplotlib.pyplot as plt\n",
    "    from matplotlib import gridspec\n",
    "    from scipy.ndimage import gaussian_filter\n",
    "\n",
    "    list_len = len(training_losses)\n",
    "    x_range = list(range(1, list_len + 1))  # number of x values\n",
    "\n",
    "    fig = plt.figure(figsize=figsize)\n",
    "    grid = gridspec.GridSpec(ncols=2, nrows=1, figure=fig)\n",
    "\n",
    "    subfig1 = fig.add_subplot(grid[0, 0])\n",
    "    subfig2 = fig.add_subplot(grid[0, 1])\n",
    "\n",
    "    subfigures = fig.get_axes()\n",
    "\n",
    "    for i, subfig in enumerate(subfigures, start=1):\n",
    "        subfig.spines['top'].set_visible(False)\n",
    "        subfig.spines['right'].set_visible(False)\n",
    "\n",
    "    if gaussian:\n",
    "        training_losses_gauss = gaussian_filter(training_losses, sigma=sigma)\n",
    "        validation_losses_gauss = gaussian_filter(validation_losses, sigma=sigma)\n",
    "\n",
    "        linestyle_original = '.'\n",
    "        color_original_train = 'lightcoral'\n",
    "        color_original_valid = 'lightgreen'\n",
    "        color_smooth_train = 'red'\n",
    "        color_smooth_valid = 'green'\n",
    "        alpha = 0.25\n",
    "    else:\n",
    "        linestyle_original = '-'\n",
    "        color_original_train = 'red'\n",
    "        color_original_valid = 'green'\n",
    "        alpha = 1.0\n",
    "\n",
    "    # Subfig 1\n",
    "    subfig1.plot(x_range, training_losses, linestyle_original, color=color_original_train, label='Training',\n",
    "                 alpha=alpha)\n",
    "    subfig1.plot(x_range, validation_losses, linestyle_original, color=color_original_valid, label='Validation',\n",
    "                 alpha=alpha)\n",
    "    if gaussian:\n",
    "        subfig1.plot(x_range, training_losses_gauss, '-', color=color_smooth_train, label='Training', alpha=0.75)\n",
    "        subfig1.plot(x_range, validation_losses_gauss, '-', color=color_smooth_valid, label='Validation', alpha=0.75)\n",
    "    subfig1.title.set_text('Training & validation loss')\n",
    "    subfig1.set_xlabel('Epoch')\n",
    "    subfig1.set_ylabel('Loss')\n",
    "\n",
    "    subfig1.legend(loc='upper right')\n",
    "\n",
    "    # Subfig 2\n",
    "    subfig2.plot(x_range, learning_rate, color='black')\n",
    "    subfig2.title.set_text('Training Time')\n",
    "    subfig2.set_xlabel('Epoch')\n",
    "    subfig2.set_ylabel('Seconds')\n",
    "\n",
    "    return fig"
   ]
  },
  {
   "cell_type": "code",
   "execution_count": null,
   "id": "e4d0d5b2-9c35-4ce9-bb4b-51d1a5ee2ff3",
   "metadata": {},
   "outputs": [],
   "source": []
  }
 ],
 "metadata": {
  "kernelspec": {
   "display_name": "Python 3 (ipykernel) (Local)",
   "language": "python",
   "name": "local-python3"
  },
  "language_info": {
   "codemirror_mode": {
    "name": "ipython",
    "version": 3
   },
   "file_extension": ".py",
   "mimetype": "text/x-python",
   "name": "python",
   "nbconvert_exporter": "python",
   "pygments_lexer": "ipython3",
   "version": "3.7.12"
  }
 },
 "nbformat": 4,
 "nbformat_minor": 5
}
